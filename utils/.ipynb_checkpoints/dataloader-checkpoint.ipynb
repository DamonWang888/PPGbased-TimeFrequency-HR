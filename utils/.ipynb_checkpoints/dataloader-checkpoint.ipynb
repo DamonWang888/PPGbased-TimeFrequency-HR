{
 "cells": [
  {
   "cell_type": "code",
   "execution_count": 11,
   "metadata": {},
   "outputs": [],
   "source": [
    "import torch as t\n",
    "from torch.utils import data"
   ]
  },
  {
   "cell_type": "code",
   "execution_count": 12,
   "metadata": {},
   "outputs": [],
   "source": [
    "import os\n",
    "from PIL import Image\n",
    "import numpy as np\n",
    "class DogCat(data.Dataset):\n",
    "    def __init__(self,root):\n",
    "        imgs=os.listdir(root)\n",
    "        self.imgs=[os.path.join(root,img) for img in imgs]\n",
    "    def __getitem__(self,index):\n",
    "        img_path=self.imgs[index]\n",
    "        label=1 if 'dog' in img_path.split('/')[-1] else 0\n",
    "        pil_img=Image.open(img_path)\n",
    "        array=np.asarray(pil_img)\n",
    "        data=t.from_numpy(array)\n",
    "        return data,label\n",
    "    def __len__(self):\n",
    "        return len(self.imgs)"
   ]
  },
  {
   "cell_type": "code",
   "execution_count": 15,
   "metadata": {},
   "outputs": [
    {
     "name": "stdout",
     "output_type": "stream",
     "text": [
      "torch.Size([500, 497, 3]) tensor(106.4915) 0\n",
      "torch.Size([377, 499, 3]) tensor(151.7174) 1\n",
      "torch.Size([375, 499, 3]) tensor(150.5079) 1\n",
      "torch.Size([236, 289, 3]) tensor(130.3004) 0\n",
      "torch.Size([375, 499, 3]) tensor(116.8139) 1\n",
      "torch.Size([499, 379, 3]) tensor(171.8085) 0\n",
      "torch.Size([400, 300, 3]) tensor(128.1550) 1\n",
      "torch.Size([374, 499, 3]) tensor(115.5177) 0\n"
     ]
    }
   ],
   "source": [
    "dataset=DogCat('/home/wcj/pytorch-book/chapter5-常用工具/data/dogcat')\n",
    "img,label=dataset[0]\n",
    "for img,label in dataset:\n",
    "    print(img.size(),img.float().mean(),label)\n",
    "    "
   ]
  },
  {
   "cell_type": "code",
   "execution_count": 17,
   "metadata": {},
   "outputs": [
    {
     "data": {
      "text/plain": [
       "torch.Size([374, 499, 3])"
      ]
     },
     "execution_count": 17,
     "metadata": {},
     "output_type": "execute_result"
    }
   ],
   "source": [
    "img.shape\n"
   ]
  },
  {
   "cell_type": "code",
   "execution_count": 27,
   "metadata": {},
   "outputs": [
    {
     "name": "stdout",
     "output_type": "stream",
     "text": [
      "torch.Size([3, 224, 224]) 1\n",
      "torch.Size([3, 224, 224]) 0\n",
      "torch.Size([3, 224, 224]) 0\n",
      "torch.Size([3, 224, 224]) 1\n",
      "torch.Size([3, 224, 224]) 0\n",
      "torch.Size([3, 224, 224]) 1\n",
      "torch.Size([3, 224, 224]) 0\n",
      "torch.Size([3, 224, 224]) 1\n"
     ]
    }
   ],
   "source": [
    "import os\n",
    "from PIL import Image\n",
    "import numpy as np\n",
    "from torchvision import transforms as T\n",
    "transforms=T.Compose([\n",
    "    T.Resize(224),\n",
    "    T.CenterCrop(224),\n",
    "    T.ToTensor(),\n",
    "    T.Normalize(mean=[.5,.5,.5],std=[.5,.5,.5])\n",
    "])\n",
    "class DogCat(data.Dataset):\n",
    "    def __init__(self,root,transforms=None):\n",
    "        imgs=os.listdir(root)\n",
    "        self.imgs=[os.path.join(root,img) for img in imgs]\n",
    "        self.transforms=transforms\n",
    "    def __getitem__(self,index):\n",
    "        img_path=self.imgs[index]\n",
    "        label=0 if 'dog' in img_path.split('/')[-1] else 1\n",
    "        data=Image.open(img_path)\n",
    "        if self.transforms:\n",
    "            data=self.transforms(data)\n",
    "        return data,label\n",
    "    def __len__(self):\n",
    "        return len(self.imgs)\n",
    "dataset=DogCat('/home/wcj/pytorch-book/chapter5-常用工具/data/dogcat',transforms=transforms)\n",
    "img,label=dataset[0]\n",
    "for img,label in dataset:\n",
    "    print(img.size(),label)"
   ]
  },
  {
   "cell_type": "code",
   "execution_count": null,
   "metadata": {},
   "outputs": [],
   "source": []
  }
 ],
 "metadata": {
  "kernelspec": {
   "display_name": "Python 3",
   "language": "python",
   "name": "python3"
  },
  "language_info": {
   "codemirror_mode": {
    "name": "ipython",
    "version": 3
   },
   "file_extension": ".py",
   "mimetype": "text/x-python",
   "name": "python",
   "nbconvert_exporter": "python",
   "pygments_lexer": "ipython3",
   "version": "3.7.6"
  }
 },
 "nbformat": 4,
 "nbformat_minor": 2
}
